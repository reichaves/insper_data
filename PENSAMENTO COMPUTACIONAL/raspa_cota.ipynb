{
  "nbformat": 4,
  "nbformat_minor": 0,
  "metadata": {
    "colab": {
      "name": "raspa_cota.ipynb",
      "provenance": [],
      "collapsed_sections": []
    },
    "kernelspec": {
      "name": "python3",
      "display_name": "Python 3"
    },
    "language_info": {
      "name": "python"
    }
  },
  "cells": [
    {
      "cell_type": "code",
      "metadata": {
        "id": "F8pFYr8hdoaQ"
      },
      "source": [
        "# -*- coding: utf-8\n",
        "# Reinaldo Chaves (@paidatocandeira)\n",
        "# Trabalho final da disciplina\n",
        "# Raspagem de documentos de Cota para o Exercício da Atividade Parlamentar de um deputado\n",
        "# Prof. Alvaro Justen\n",
        "#"
      ],
      "execution_count": null,
      "outputs": []
    },
    {
      "cell_type": "code",
      "metadata": {
        "id": "omtMMlUen9XO"
      },
      "source": [
        ""
      ],
      "execution_count": null,
      "outputs": []
    },
    {
      "cell_type": "code",
      "metadata": {
        "id": "16fLQPD8FF5y"
      },
      "source": [
        "#!pip install wget"
      ],
      "execution_count": 30,
      "outputs": []
    },
    {
      "cell_type": "code",
      "metadata": {
        "id": "0Cvx9txpdrOt"
      },
      "source": [
        "from urllib.request import urlopen\n",
        "from bs4 import BeautifulSoup\n",
        "import pandas as pd\n",
        "import wget"
      ],
      "execution_count": 31,
      "outputs": []
    },
    {
      "cell_type": "code",
      "metadata": {
        "id": "cOg5tBmydxov"
      },
      "source": [
        ""
      ],
      "execution_count": null,
      "outputs": []
    },
    {
      "cell_type": "code",
      "metadata": {
        "id": "_IQhG3wQCNvp"
      },
      "source": [
        "# Faz a requisicao na pagina com os dados - uma página de Cota para o Exercício da Atividade Parlamentar"
      ],
      "execution_count": null,
      "outputs": []
    },
    {
      "cell_type": "code",
      "metadata": {
        "id": "bXpHQOdSjLow"
      },
      "source": [
        "req = urlopen('https://www.camara.leg.br/cota-parlamentar/analitico?nuDeputadoId=3402&dataInicio=4/2021&dataFim=4/2021&despesa=5&nomeHospede=&nomePassageiro=&nomeFornecedor=&cnpjFornecedor=&numDocumento=&sguf=')"
      ],
      "execution_count": 32,
      "outputs": []
    },
    {
      "cell_type": "code",
      "metadata": {
        "id": "uDZhSU8jCVO4"
      },
      "source": [
        "# Faz o parseamento para facilitar a leitura"
      ],
      "execution_count": null,
      "outputs": []
    },
    {
      "cell_type": "code",
      "metadata": {
        "id": "fEFuG18W_KDl"
      },
      "source": [
        "soup = BeautifulSoup(req.read(), 'html.parser')"
      ],
      "execution_count": 33,
      "outputs": []
    },
    {
      "cell_type": "code",
      "metadata": {
        "id": "iku9FU4xChW7"
      },
      "source": [
        "# Separa o ponto exata onde esta a tabela"
      ],
      "execution_count": null,
      "outputs": []
    },
    {
      "cell_type": "code",
      "metadata": {
        "id": "xkemqLWF327q"
      },
      "source": [
        "tables_ele = soup.findAll('table', {'class': 'tabela-2'})"
      ],
      "execution_count": 34,
      "outputs": []
    },
    {
      "cell_type": "code",
      "metadata": {
        "id": "DxJXWo46-AA0"
      },
      "source": [
        "gastos = []"
      ],
      "execution_count": 35,
      "outputs": []
    },
    {
      "cell_type": "code",
      "metadata": {
        "id": "90Ma2PD6CiTW"
      },
      "source": [
        ""
      ],
      "execution_count": null,
      "outputs": []
    },
    {
      "cell_type": "code",
      "metadata": {
        "id": "lbwJnH_Y4LSc"
      },
      "source": [
        "# Iteracao\n",
        "for table_ele in tables_ele:\n",
        "  # Iteracao dentro dos elementos tr\n",
        "  for row in table_ele.findAll('tr'):\n",
        "    #print(row)\n",
        "    # Procura os itens td\n",
        "    cols = row.findAll('td')\n",
        "    # Acessa apenas os não vazios\n",
        "    if len(cols) != 0:\n",
        "      # Acessa menos o rodapé\n",
        "      if cols[0].text.strip() != \"Total\":\n",
        "        # Captura cada item correspondente na tabela\n",
        "        dicionario = {\"nome_fornecedor\": cols[0].text.strip(),\n",
        "              \"cpf_cnpj\": cols[1].text.strip(),\n",
        "              \"data_emissao\": cols[2].text.strip(),\n",
        "              \"numero_documento\": cols[3].text.strip(),\n",
        "              \"link_documento\": \"https://www.camara.leg.br\" + cols[3].find('a').get('href').strip(),\n",
        "              \"valor_despesa\": cols[4].text.strip(),\n",
        "              \"deducoes_desembolso\": cols[6].text.strip(),\n",
        "              }\n",
        "        # Adiciona na lista\n",
        "        gastos.append(dicionario)\n",
        "       "
      ],
      "execution_count": 36,
      "outputs": []
    },
    {
      "cell_type": "code",
      "metadata": {
        "colab": {
          "base_uri": "https://localhost:8080/"
        },
        "id": "v9S2-vuKzzVH",
        "outputId": "90ae7748-6667-4ba7-9844-22c3ea3356a1"
      },
      "source": [
        "# Cria o dataframe final\n",
        "df = pd.DataFrame(gastos)\n",
        "df.info()"
      ],
      "execution_count": 37,
      "outputs": [
        {
          "output_type": "stream",
          "name": "stdout",
          "text": [
            "<class 'pandas.core.frame.DataFrame'>\n",
            "RangeIndex: 6 entries, 0 to 5\n",
            "Data columns (total 7 columns):\n",
            " #   Column               Non-Null Count  Dtype \n",
            "---  ------               --------------  ----- \n",
            " 0   nome_fornecedor      6 non-null      object\n",
            " 1   cpf_cnpj             6 non-null      object\n",
            " 2   data_emissao         6 non-null      object\n",
            " 3   numero_documento     6 non-null      object\n",
            " 4   link_documento       6 non-null      object\n",
            " 5   valor_despesa        6 non-null      object\n",
            " 6   deducoes_desembolso  6 non-null      object\n",
            "dtypes: object(7)\n",
            "memory usage: 464.0+ bytes\n"
          ]
        }
      ]
    },
    {
      "cell_type": "code",
      "metadata": {
        "colab": {
          "base_uri": "https://localhost:8080/",
          "height": 342
        },
        "id": "yX_-bTgb_d3v",
        "outputId": "6bc8ffa8-eb12-42de-ef1b-0e1e82b43317"
      },
      "source": [
        "df"
      ],
      "execution_count": 38,
      "outputs": [
        {
          "output_type": "execute_result",
          "data": {
            "text/html": [
              "<div>\n",
              "<style scoped>\n",
              "    .dataframe tbody tr th:only-of-type {\n",
              "        vertical-align: middle;\n",
              "    }\n",
              "\n",
              "    .dataframe tbody tr th {\n",
              "        vertical-align: top;\n",
              "    }\n",
              "\n",
              "    .dataframe thead th {\n",
              "        text-align: right;\n",
              "    }\n",
              "</style>\n",
              "<table border=\"1\" class=\"dataframe\">\n",
              "  <thead>\n",
              "    <tr style=\"text-align: right;\">\n",
              "      <th></th>\n",
              "      <th>nome_fornecedor</th>\n",
              "      <th>cpf_cnpj</th>\n",
              "      <th>data_emissao</th>\n",
              "      <th>numero_documento</th>\n",
              "      <th>link_documento</th>\n",
              "      <th>valor_despesa</th>\n",
              "      <th>deducoes_desembolso</th>\n",
              "    </tr>\n",
              "  </thead>\n",
              "  <tbody>\n",
              "    <tr>\n",
              "      <th>0</th>\n",
              "      <td>BM Gestão de Mídias Sociais</td>\n",
              "      <td>36.785.758/0001-20</td>\n",
              "      <td>01/05/2021</td>\n",
              "      <td>14</td>\n",
              "      <td>https://www.camara.leg.br/cota-parlamentar/doc...</td>\n",
              "      <td>R$6.000,00</td>\n",
              "      <td>R$6.000,00</td>\n",
              "    </tr>\n",
              "    <tr>\n",
              "      <th>1</th>\n",
              "      <td>BITTAR EDITORA PLANEJAMENTO ESTRATEGICO LTDA</td>\n",
              "      <td>39.572.622/0001-20</td>\n",
              "      <td>08/04/2021</td>\n",
              "      <td>17</td>\n",
              "      <td>https://www.camara.leg.br/cota-parlamentar/not...</td>\n",
              "      <td>R$5.000,00</td>\n",
              "      <td>R$5.000,00</td>\n",
              "    </tr>\n",
              "    <tr>\n",
              "      <th>2</th>\n",
              "      <td>INOVATUM SOLUCOES EM TECNOLOGIA DA INFORMACAO ...</td>\n",
              "      <td>15.022.614/0001-41</td>\n",
              "      <td>10/05/2021</td>\n",
              "      <td>5</td>\n",
              "      <td>https://www.camara.leg.br/cota-parlamentar/not...</td>\n",
              "      <td>R$2.000,00</td>\n",
              "      <td>R$2.000,00</td>\n",
              "    </tr>\n",
              "    <tr>\n",
              "      <th>3</th>\n",
              "      <td>NATALI AMORIM GOMES MORALES 39260832802</td>\n",
              "      <td>40.753.621/0001-60</td>\n",
              "      <td>07/05/2021</td>\n",
              "      <td>00000005</td>\n",
              "      <td>https://www.camara.leg.br/cota-parlamentar/doc...</td>\n",
              "      <td>R$2.000,00</td>\n",
              "      <td>R$2.000,00</td>\n",
              "    </tr>\n",
              "    <tr>\n",
              "      <th>4</th>\n",
              "      <td>Lucas Santos da Silva</td>\n",
              "      <td>41.101.476/0001-04</td>\n",
              "      <td>07/05/2021</td>\n",
              "      <td>002114699</td>\n",
              "      <td>https://www.camara.leg.br/cota-parlamentar/doc...</td>\n",
              "      <td>R$1.500,00</td>\n",
              "      <td>R$1.500,00</td>\n",
              "    </tr>\n",
              "    <tr>\n",
              "      <th>5</th>\n",
              "      <td>TAMISA BARBOSA DE OLIVEIRA 04090320186</td>\n",
              "      <td>41.191.298/0001-41</td>\n",
              "      <td>06/05/2021</td>\n",
              "      <td>002114175</td>\n",
              "      <td>https://www.camara.leg.br/cota-parlamentar/doc...</td>\n",
              "      <td>R$1.500,00</td>\n",
              "      <td>R$1.500,00</td>\n",
              "    </tr>\n",
              "  </tbody>\n",
              "</table>\n",
              "</div>"
            ],
            "text/plain": [
              "                                     nome_fornecedor  ... deducoes_desembolso\n",
              "0                        BM Gestão de Mídias Sociais  ...          R$6.000,00\n",
              "1       BITTAR EDITORA PLANEJAMENTO ESTRATEGICO LTDA  ...          R$5.000,00\n",
              "2  INOVATUM SOLUCOES EM TECNOLOGIA DA INFORMACAO ...  ...          R$2.000,00\n",
              "3            NATALI AMORIM GOMES MORALES 39260832802  ...          R$2.000,00\n",
              "4                              Lucas Santos da Silva  ...          R$1.500,00\n",
              "5             TAMISA BARBOSA DE OLIVEIRA 04090320186  ...          R$1.500,00\n",
              "\n",
              "[6 rows x 7 columns]"
            ]
          },
          "metadata": {},
          "execution_count": 38
        }
      ]
    },
    {
      "cell_type": "code",
      "metadata": {
        "id": "2gwL5gXuBTik"
      },
      "source": [
        ""
      ],
      "execution_count": null,
      "outputs": []
    },
    {
      "cell_type": "code",
      "metadata": {
        "colab": {
          "base_uri": "https://localhost:8080/"
        },
        "id": "-ppdTQfP_eU2",
        "outputId": "6781862b-e79a-4f45-a90d-9535e9a9bac0"
      },
      "source": [
        "from google.colab import drive\n",
        "drive.mount('/drive')"
      ],
      "execution_count": 10,
      "outputs": [
        {
          "output_type": "stream",
          "name": "stdout",
          "text": [
            "Drive already mounted at /drive; to attempt to forcibly remount, call drive.mount(\"/drive\", force_remount=True).\n"
          ]
        }
      ]
    },
    {
      "cell_type": "code",
      "metadata": {
        "id": "3zDLPkG0_f1v"
      },
      "source": [
        "# Salva em CSV"
      ],
      "execution_count": null,
      "outputs": []
    },
    {
      "cell_type": "code",
      "metadata": {
        "id": "7Orph3Ng_ghw"
      },
      "source": [
        "df.to_csv('/drive/My Drive/Data-driven/Insper/cota_parlamentar.csv', index=False)"
      ],
      "execution_count": 114,
      "outputs": []
    },
    {
      "cell_type": "code",
      "metadata": {
        "id": "ozBoYKo_zelO"
      },
      "source": [
        ""
      ],
      "execution_count": null,
      "outputs": []
    },
    {
      "cell_type": "code",
      "metadata": {
        "id": "ipmEkOsvlGef"
      },
      "source": [
        "# Baixa os documentos nos links, se forem PDFs"
      ],
      "execution_count": null,
      "outputs": []
    },
    {
      "cell_type": "code",
      "metadata": {
        "colab": {
          "base_uri": "https://localhost:8080/"
        },
        "id": "xavypJdweQqG",
        "outputId": "78852688-5264-459b-a65b-4803b071509a"
      },
      "source": [
        "[wget.download(x) for x in df['link_documento'] if '.pdf' in x]"
      ],
      "execution_count": 41,
      "outputs": [
        {
          "output_type": "execute_result",
          "data": {
            "text/plain": [
              "['7185522.pdf', '7188973.pdf', '7188975.pdf', '7188974.pdf']"
            ]
          },
          "metadata": {},
          "execution_count": 41
        }
      ]
    }
  ]
}